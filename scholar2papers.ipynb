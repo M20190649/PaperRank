{
 "cells": [
  {
   "cell_type": "code",
   "execution_count": 1,
   "metadata": {},
   "outputs": [],
   "source": [
    "import pandas as pd\n",
    "import requests as rq\n",
    "from bs4 import BeautifulSoup\n",
    "import re\n",
    "from pandas import DataFrame as DF\n",
    "import time\n",
    "from pdf2str import extract_text_from_pdf\n",
    "import os\n",
    "import math\n",
    "\n",
    "from selenium import webdriver\n",
    "from selenium.webdriver.chrome.options import Options\n"
   ]
  },
  {
   "cell_type": "code",
   "execution_count": 2,
   "metadata": {},
   "outputs": [],
   "source": [
    "def click_button(xpath='',sleep=0):\n",
    "    button=browser.find_element_by_xpath(xpath)\n",
    "    button.click()\n",
    "    time.sleep(sleep)\n",
    "    \n",
    "def sendKeys(keys='',xpath='',sleep=0):\n",
    "    search_txt=browser.find_element_by_xpath(xpath)\n",
    "    search_txt.send_keys(keys)\n",
    "    time.sleep(sleep)\n",
    "    \n"
   ]
  },
  {
   "cell_type": "code",
   "execution_count": 3,
   "metadata": {
    "scrolled": true
   },
   "outputs": [],
   "source": [
    "# url='https://scholar.google.com/citations?user=f6SBzrAAAAAJ&hl=zh-TW&oi=ao'\n",
    "# response = rq.get(url) \n",
    "# html_doc = response.text \n",
    "# soup = BeautifulSoup(response.text) \n",
    "# # a=soup.find('ul',{'class':'link-list-aroow-wide column2'}).find_all('a')\n",
    "# # prefix='https://www.2020games.metro.tokyo.lg.jp/eng/taikaijyunbi/taikai/kaijyou/'\n",
    "# # sites=[prefix+x['href'] for x in a]\n",
    "# soup"
   ]
  },
  {
   "cell_type": "code",
   "execution_count": 4,
   "metadata": {},
   "outputs": [],
   "source": [
    "options = Options()\n",
    "options.headless = False\n",
    "\n",
    "default_content_setting_values={'notifications' : 2}\n",
    "prefs = {'profile.default_content_setting_values':default_content_setting_values}\n",
    "options.add_experimental_option('prefs',prefs)\n",
    "\n",
    "browser=webdriver.Chrome('/Users/ryh/Desktop/crawler/chromedriver',options=options)\n",
    "scholar_url='https://scholar.google.com/citations?user=zJ3GT9IAAAAJ&hl=zh-TW&oi=sra'\n",
    "browser.get(scholar_url)\n"
   ]
  },
  {
   "cell_type": "code",
   "execution_count": 5,
   "metadata": {},
   "outputs": [
    {
     "data": {
      "text/plain": [
       "'Ming-Chuan-Yang'"
      ]
     },
     "execution_count": 5,
     "metadata": {},
     "output_type": "execute_result"
    }
   ],
   "source": [
    "soup = BeautifulSoup(browser.page_source)\n",
    "scholar_name=soup.find('div',{'id':\"gsc_prf_in\"}).text\n",
    "scholar_name=scholar_name.replace(' ','-')\n",
    "scholar_name\n"
   ]
  },
  {
   "cell_type": "code",
   "execution_count": 6,
   "metadata": {},
   "outputs": [],
   "source": [
    "# page_source = browser.page_source\n",
    "# soup = BeautifulSoup(page_source)\n",
    "# a=soup.find('button',{'class':'gs_btnPD gs_in_ib gs_btn_flat gs_btn_lrge gs_btn_lsu'})\n",
    "# is_more='disabled' not in str(a)\n",
    "# is_more"
   ]
  },
  {
   "cell_type": "code",
   "execution_count": 7,
   "metadata": {},
   "outputs": [],
   "source": [
    "def is_more(browser):\n",
    "    page_source = browser.page_source\n",
    "    soup = BeautifulSoup(page_source)\n",
    "    a=soup.find('button',{'class':'gs_btnPD gs_in_ib gs_btn_flat gs_btn_lrge gs_btn_lsu'})\n",
    "    is_more='disabled' not in str(a)\n",
    "    return is_more"
   ]
  },
  {
   "cell_type": "code",
   "execution_count": 8,
   "metadata": {},
   "outputs": [],
   "source": [
    "# more_button=browser.find_element_by_xpath(\"//*[contains(text(), '顯示更多結果')]\")\n",
    "# more_button.click()"
   ]
  },
  {
   "cell_type": "code",
   "execution_count": 9,
   "metadata": {
    "scrolled": true
   },
   "outputs": [],
   "source": [
    "# click more while is_more\n",
    "while True:\n",
    "    if is_more(browser)==False: break\n",
    "    more_button=browser.find_element_by_xpath(\"//*[contains(text(), '顯示更多結果')]\")    \n",
    "    time.sleep(3)\n",
    "    more_button.click()\n",
    "    time.sleep(1)"
   ]
  },
  {
   "cell_type": "code",
   "execution_count": 10,
   "metadata": {
    "scrolled": true
   },
   "outputs": [
    {
     "data": {
      "text/plain": [
       "10"
      ]
     },
     "execution_count": 10,
     "metadata": {},
     "output_type": "execute_result"
    }
   ],
   "source": [
    "soup = BeautifulSoup(browser.page_source)\n",
    "paper_num=soup.find('div',{'id':'gsc_lwp'}).find('span',{'id':\"gsc_a_nn\"}).text.split('–')[-1]\n",
    "paper_num=int(paper_num)\n",
    "paper_num\n"
   ]
  },
  {
   "cell_type": "markdown",
   "metadata": {},
   "source": [
    "# one paper"
   ]
  },
  {
   "cell_type": "code",
   "execution_count": 11,
   "metadata": {
    "scrolled": true
   },
   "outputs": [],
   "source": [
    "# i=1\n",
    "# paper_button=browser.find_element_by_xpath('//*[@id=\"gsc_a_b\"]/tr[%s]/td[1]/a'%(i))\n",
    "# paper_button.click()"
   ]
  },
  {
   "cell_type": "code",
   "execution_count": 12,
   "metadata": {},
   "outputs": [],
   "source": [
    "# soup = BeautifulSoup(browser.page_source)\n",
    "# a=soup.find('a',{'class':'gsc_vcd_title_link'})\n",
    "# paper_name=a.text\n",
    "# paper_url=a['href']\n",
    "# paper_name,paper_url"
   ]
  },
  {
   "cell_type": "code",
   "execution_count": 13,
   "metadata": {},
   "outputs": [],
   "source": [
    "# paper_conference=soup.find(\"div\",{'class':'gsc_vcd_field'}, string=\"會議\")\n",
    "# paper_conference=paper_conference.find_next('div').text if paper_conference !=None else 'x'\n",
    "# paper_conference\n",
    "\n",
    "def title2content(soup,title=''):\n",
    "    paper_conference=soup.find(\"div\",{'class':'gsc_vcd_field'}, string=title)\n",
    "    \n",
    "    if title=='引文總數':\n",
    "        paper_conference=int(paper_conference.find_next('a').text.split(' ')[1]) if paper_conference !=None else 0\n",
    "        return paper_conference\n",
    "    \n",
    "    paper_conference=paper_conference.find_next('div').text if paper_conference !=None else 'x'\n",
    "    return paper_conference\n",
    "\n",
    "\n",
    "# title2content(soup,title='引文總數')"
   ]
  },
  {
   "cell_type": "code",
   "execution_count": 14,
   "metadata": {},
   "outputs": [],
   "source": [
    "titles=['作者','發布日期','描述','引文總數','會議','期刊']\n",
    "# for title in titles:\n",
    "#     content=title2content(soup,title=title)\n",
    "#     print(title,content)"
   ]
  },
  {
   "cell_type": "code",
   "execution_count": 15,
   "metadata": {},
   "outputs": [],
   "source": [
    "# pdf_url=soup.find_all(\"div\",{'class':'gsc_vcd_title_ggi'})\n",
    "# pdf_url=[x.find('a')['href'] for x in pdf_url] if len(pdf_url)!=0 else 'x'\n",
    "# pdf_url"
   ]
  },
  {
   "cell_type": "code",
   "execution_count": 16,
   "metadata": {},
   "outputs": [],
   "source": [
    "# row=DF([[paper_name,paper_url]+[title2content(soup,title=title) for title in titles]])\n",
    "# row.columns=['paper_name','paper_url']+titles\n",
    "# row"
   ]
  },
  {
   "cell_type": "code",
   "execution_count": 17,
   "metadata": {},
   "outputs": [],
   "source": [
    "def get_i_paper(result,i):\n",
    "    paper_button=browser.find_element_by_xpath('//*[@id=\"gsc_a_b\"]/tr[%s]/td[1]/a'%(i))\n",
    "    paper_button.click()\n",
    "    time.sleep(1)\n",
    "\n",
    "    soup = BeautifulSoup(browser.page_source)\n",
    "\n",
    "    a=soup.find('a',{'class':'gsc_vcd_title_link'})\n",
    "    paper_name=a.text\n",
    "    paper_url=a['href']\n",
    "\n",
    "    pdf_url=soup.find_all(\"div\",{'class':'gsc_vcd_title_ggi'})\n",
    "    pdf_url=[x.find('a')['href'] for x in pdf_url if 'pdf' in x.find('a')['href']] if len(pdf_url)!=0 else 'x'\n",
    "    pdf_url=pdf_url[0] if len(pdf_url)!=0 else 'x'\n",
    "\n",
    "    row=[[paper_name,paper_url]+[title2content(soup,title=title) for title in titles]+[pdf_url]]\n",
    "    row=DF(row)\n",
    "    row.columns=['paper_name','paper_url']+titles+['pdf_url']\n",
    "    result=result.append(row)\n",
    "\n",
    "    x_button=browser.find_element_by_xpath('//*[@id=\"gs_md_cita-d-x\"]')\n",
    "    x_button.click()\n",
    "    time.sleep(1)\n",
    "    \n",
    "    return result\n",
    "    "
   ]
  },
  {
   "cell_type": "code",
   "execution_count": null,
   "metadata": {},
   "outputs": [],
   "source": []
  },
  {
   "cell_type": "code",
   "execution_count": null,
   "metadata": {},
   "outputs": [],
   "source": []
  },
  {
   "cell_type": "code",
   "execution_count": null,
   "metadata": {},
   "outputs": [],
   "source": []
  },
  {
   "cell_type": "code",
   "execution_count": 18,
   "metadata": {},
   "outputs": [],
   "source": [
    "result=DF()"
   ]
  },
  {
   "cell_type": "code",
   "execution_count": 19,
   "metadata": {
    "scrolled": true
   },
   "outputs": [
    {
     "name": "stdout",
     "output_type": "stream",
     "text": [
      " --------------------- \n",
      "len(i_list) 10\n",
      "result.shape (0, 0)\n",
      "i 1\n",
      " --------------------- \n",
      "len(i_list) 9\n",
      "result.shape (1, 9)\n",
      "i 2\n",
      " --------------------- \n",
      "len(i_list) 8\n",
      "result.shape (2, 9)\n",
      "i 3\n",
      " --------------------- \n",
      "len(i_list) 7\n",
      "result.shape (3, 9)\n",
      "i 4\n",
      " --------------------- \n",
      "len(i_list) 6\n",
      "result.shape (4, 9)\n",
      "i 5\n",
      " --------------------- \n",
      "len(i_list) 5\n",
      "result.shape (5, 9)\n",
      "i 6\n",
      " --------------------- \n",
      "len(i_list) 4\n",
      "result.shape (6, 9)\n",
      "i 7\n",
      " --------------------- \n",
      "len(i_list) 3\n",
      "result.shape (7, 9)\n",
      "i 8\n",
      " --------------------- \n",
      "len(i_list) 2\n",
      "result.shape (8, 9)\n",
      "i 9\n",
      " --------------------- \n",
      "len(i_list) 1\n",
      "result.shape (9, 9)\n",
      "i 10\n",
      " --------------------- \n",
      "len(i_list) 0\n",
      "result.shape (10, 9)\n"
     ]
    }
   ],
   "source": [
    "i_list=list(range(1,paper_num+1))\n",
    "while True:\n",
    "    print(' --------------------- ')\n",
    "    print('len(i_list)',len(i_list))\n",
    "    print('result.shape',result.shape)\n",
    "    \n",
    "    if len(i_list)==0: break\n",
    "    i=i_list.pop(0)\n",
    "    print('i',i)\n",
    "    try:\n",
    "        result=get_i_paper(result,i)\n",
    "    except Exception as e:\n",
    "        print(e)\n",
    "        print('error',i)\n",
    "        i_list.append(i)"
   ]
  },
  {
   "cell_type": "code",
   "execution_count": null,
   "metadata": {},
   "outputs": [],
   "source": []
  },
  {
   "cell_type": "code",
   "execution_count": 20,
   "metadata": {},
   "outputs": [
    {
     "data": {
      "text/plain": [
       "'./scholar/Ming-Chuan-Yang.pickle'"
      ]
     },
     "execution_count": 20,
     "metadata": {},
     "output_type": "execute_result"
    }
   ],
   "source": [
    "# result.loc[result['引文總數']=='x','引文總數']=0\n",
    "result=result.reset_index(drop=True)\n",
    "file_name='%s.pickle'%(scholar_name)\n",
    "path=os.path.join('.','scholar',file_name)\n",
    "path"
   ]
  },
  {
   "cell_type": "code",
   "execution_count": 21,
   "metadata": {},
   "outputs": [],
   "source": [
    "result.to_pickle(path)"
   ]
  },
  {
   "cell_type": "code",
   "execution_count": null,
   "metadata": {},
   "outputs": [],
   "source": []
  },
  {
   "cell_type": "code",
   "execution_count": null,
   "metadata": {},
   "outputs": [],
   "source": []
  },
  {
   "cell_type": "markdown",
   "metadata": {},
   "source": [
    "# download pdf\n"
   ]
  },
  {
   "cell_type": "code",
   "execution_count": null,
   "metadata": {},
   "outputs": [],
   "source": []
  },
  {
   "cell_type": "code",
   "execution_count": 22,
   "metadata": {
    "scrolled": true
   },
   "outputs": [
    {
     "data": {
      "text/html": [
       "<div>\n",
       "<style scoped>\n",
       "    .dataframe tbody tr th:only-of-type {\n",
       "        vertical-align: middle;\n",
       "    }\n",
       "\n",
       "    .dataframe tbody tr th {\n",
       "        vertical-align: top;\n",
       "    }\n",
       "\n",
       "    .dataframe thead th {\n",
       "        text-align: right;\n",
       "    }\n",
       "</style>\n",
       "<table border=\"1\" class=\"dataframe\">\n",
       "  <thead>\n",
       "    <tr style=\"text-align: right;\">\n",
       "      <th></th>\n",
       "      <th>paper_name</th>\n",
       "      <th>paper_url</th>\n",
       "      <th>作者</th>\n",
       "      <th>發布日期</th>\n",
       "      <th>描述</th>\n",
       "      <th>引文總數</th>\n",
       "      <th>會議</th>\n",
       "      <th>期刊</th>\n",
       "      <th>pdf_url</th>\n",
       "      <th>pdf_path</th>\n",
       "    </tr>\n",
       "  </thead>\n",
       "  <tbody>\n",
       "    <tr>\n",
       "      <th>0</th>\n",
       "      <td>On the inapproximability of maximum intersecti...</td>\n",
       "      <td>https://www.sciencedirect.com/science/article/...</td>\n",
       "      <td>Min-Zheng Shieh, Shi-Chun Tsai, Ming-Chuan Yang</td>\n",
       "      <td>2012/10/15</td>\n",
       "      <td>Given u sets, we want to choose exactly k sets...</td>\n",
       "      <td>14</td>\n",
       "      <td>x</td>\n",
       "      <td>Information Processing Letters</td>\n",
       "      <td>https://ir.nctu.edu.tw/bitstream/11536/16807/1...</td>\n",
       "      <td>x</td>\n",
       "    </tr>\n",
       "    <tr>\n",
       "      <th>1</th>\n",
       "      <td>Detecting amplification attacks with software ...</td>\n",
       "      <td>https://ieeexplore.ieee.org/abstract/document/...</td>\n",
       "      <td>Chih-Chieh Chen, Yi-Ren Chen, Wei-Chih Lu, Shi...</td>\n",
       "      <td>2017/8/7</td>\n",
       "      <td>Distributed denial of service (DDoS) is an att...</td>\n",
       "      <td>7</td>\n",
       "      <td>2017 IEEE conference on dependable and secure ...</td>\n",
       "      <td>x</td>\n",
       "      <td>x</td>\n",
       "      <td>x</td>\n",
       "    </tr>\n",
       "    <tr>\n",
       "      <th>2</th>\n",
       "      <td>Restrictions of nondegenerate Boolean function...</td>\n",
       "      <td>https://ieeexplore.ieee.org/abstract/document/...</td>\n",
       "      <td>Chia-Jung Lee, Satyanarayana V Lokam, Shi-Chun...</td>\n",
       "      <td>2015/6/14</td>\n",
       "      <td>A Boolean function f : {0, 1} n → {0, 1} is ca...</td>\n",
       "      <td>3</td>\n",
       "      <td>2015 IEEE International Symposium on Informati...</td>\n",
       "      <td>x</td>\n",
       "      <td>x</td>\n",
       "      <td>x</td>\n",
       "    </tr>\n",
       "    <tr>\n",
       "      <th>3</th>\n",
       "      <td>Online prediction problems with variation</td>\n",
       "      <td>https://link.springer.com/chapter/10.1007/978-...</td>\n",
       "      <td>Chia-Jung Lee, Shi-Chun Tsai, Ming-Chuan Yang</td>\n",
       "      <td>2014/8/4</td>\n",
       "      <td>We study the prediction with expert advice pr...</td>\n",
       "      <td>1</td>\n",
       "      <td>International Computing and Combinatorics Conf...</td>\n",
       "      <td>x</td>\n",
       "      <td>x</td>\n",
       "      <td>x</td>\n",
       "    </tr>\n",
       "    <tr>\n",
       "      <th>4</th>\n",
       "      <td>PM2. 5 Forecasting Using Pre-trained Components</td>\n",
       "      <td>https://ieeexplore.ieee.org/abstract/document/...</td>\n",
       "      <td>Ming-Chuan Yang, Meng Chang Chen</td>\n",
       "      <td>2018/12/10</td>\n",
       "      <td>This work investigates the efforts of composit...</td>\n",
       "      <td>0</td>\n",
       "      <td>2018 IEEE International Conference on Big Data...</td>\n",
       "      <td>x</td>\n",
       "      <td>x</td>\n",
       "      <td>x</td>\n",
       "    </tr>\n",
       "    <tr>\n",
       "      <th>5</th>\n",
       "      <td>Wrapped Loss Function for Regularizing Nonconf...</td>\n",
       "      <td>https://arxiv.org/abs/1808.06733</td>\n",
       "      <td>Chun Ting Liu, Ming Chuan Yang, Meng Chang Chen</td>\n",
       "      <td>2018/8/21</td>\n",
       "      <td>Multi-output is essential in machine learning ...</td>\n",
       "      <td>0</td>\n",
       "      <td>x</td>\n",
       "      <td>arXiv preprint arXiv:1808.06733</td>\n",
       "      <td>https://arxiv.org/pdf/1808.06733</td>\n",
       "      <td>x</td>\n",
       "    </tr>\n",
       "    <tr>\n",
       "      <th>6</th>\n",
       "      <td>Representing Symmetric Boolean Functions with ...</td>\n",
       "      <td>http://search.ebscohost.com/login.aspx?direct=...</td>\n",
       "      <td>Shi-Chun Tsai, Ming-Chuan Yang</td>\n",
       "      <td>2018/1</td>\n",
       "      <td>Polynomial degree is an important measure for ...</td>\n",
       "      <td>0</td>\n",
       "      <td>x</td>\n",
       "      <td>Journal of Information Science and Engineering</td>\n",
       "      <td>x</td>\n",
       "      <td>x</td>\n",
       "    </tr>\n",
       "    <tr>\n",
       "      <th>7</th>\n",
       "      <td>Forwarding path discovery with software define...</td>\n",
       "      <td>https://ieeexplore.ieee.org/abstract/document/...</td>\n",
       "      <td>Chih-Chieh Chen, Yi-Ren Chen, Shi-Chun Tsai, M...</td>\n",
       "      <td>2017/9/27</td>\n",
       "      <td>Without STP and LLDP, we propose a new approac...</td>\n",
       "      <td>0</td>\n",
       "      <td>2017 19th Asia-Pacific Network Operations and ...</td>\n",
       "      <td>x</td>\n",
       "      <td>x</td>\n",
       "      <td>x</td>\n",
       "    </tr>\n",
       "    <tr>\n",
       "      <th>8</th>\n",
       "      <td>On Restricting No-Junta Boolean Function and D...</td>\n",
       "      <td>https://arxiv.org/abs/1502.00357</td>\n",
       "      <td>Chia-Jung Lee, Satya V Lokam, Shi-Chun Tsai, M...</td>\n",
       "      <td>2015/2/2</td>\n",
       "      <td>Let  be the set of Boolean functions depending...</td>\n",
       "      <td>0</td>\n",
       "      <td>x</td>\n",
       "      <td>arXiv preprint arXiv:1502.00357</td>\n",
       "      <td>https://arxiv.org/pdf/1502.00357</td>\n",
       "      <td>x</td>\n",
       "    </tr>\n",
       "    <tr>\n",
       "      <th>9</th>\n",
       "      <td>布林函數多項式表示法之次方下界</td>\n",
       "      <td>http://www.airitilibrary.com/Publication/alDet...</td>\n",
       "      <td>Ming-Chuan Yang</td>\n",
       "      <td>2015/1/1</td>\n",
       "      <td>Polynomial degree is an important measure for ...</td>\n",
       "      <td>0</td>\n",
       "      <td>x</td>\n",
       "      <td>交通大學資訊科學與工程研究所學位論文</td>\n",
       "      <td>x</td>\n",
       "      <td>x</td>\n",
       "    </tr>\n",
       "  </tbody>\n",
       "</table>\n",
       "</div>"
      ],
      "text/plain": [
       "                                          paper_name  \\\n",
       "0  On the inapproximability of maximum intersecti...   \n",
       "1  Detecting amplification attacks with software ...   \n",
       "2  Restrictions of nondegenerate Boolean function...   \n",
       "3          Online prediction problems with variation   \n",
       "4    PM2. 5 Forecasting Using Pre-trained Components   \n",
       "5  Wrapped Loss Function for Regularizing Nonconf...   \n",
       "6  Representing Symmetric Boolean Functions with ...   \n",
       "7  Forwarding path discovery with software define...   \n",
       "8  On Restricting No-Junta Boolean Function and D...   \n",
       "9                                    布林函數多項式表示法之次方下界   \n",
       "\n",
       "                                           paper_url  \\\n",
       "0  https://www.sciencedirect.com/science/article/...   \n",
       "1  https://ieeexplore.ieee.org/abstract/document/...   \n",
       "2  https://ieeexplore.ieee.org/abstract/document/...   \n",
       "3  https://link.springer.com/chapter/10.1007/978-...   \n",
       "4  https://ieeexplore.ieee.org/abstract/document/...   \n",
       "5                   https://arxiv.org/abs/1808.06733   \n",
       "6  http://search.ebscohost.com/login.aspx?direct=...   \n",
       "7  https://ieeexplore.ieee.org/abstract/document/...   \n",
       "8                   https://arxiv.org/abs/1502.00357   \n",
       "9  http://www.airitilibrary.com/Publication/alDet...   \n",
       "\n",
       "                                                  作者        發布日期  \\\n",
       "0    Min-Zheng Shieh, Shi-Chun Tsai, Ming-Chuan Yang  2012/10/15   \n",
       "1  Chih-Chieh Chen, Yi-Ren Chen, Wei-Chih Lu, Shi...    2017/8/7   \n",
       "2  Chia-Jung Lee, Satyanarayana V Lokam, Shi-Chun...   2015/6/14   \n",
       "3      Chia-Jung Lee, Shi-Chun Tsai, Ming-Chuan Yang    2014/8/4   \n",
       "4                   Ming-Chuan Yang, Meng Chang Chen  2018/12/10   \n",
       "5    Chun Ting Liu, Ming Chuan Yang, Meng Chang Chen   2018/8/21   \n",
       "6                     Shi-Chun Tsai, Ming-Chuan Yang      2018/1   \n",
       "7  Chih-Chieh Chen, Yi-Ren Chen, Shi-Chun Tsai, M...   2017/9/27   \n",
       "8  Chia-Jung Lee, Satya V Lokam, Shi-Chun Tsai, M...    2015/2/2   \n",
       "9                                    Ming-Chuan Yang    2015/1/1   \n",
       "\n",
       "                                                  描述  引文總數  \\\n",
       "0  Given u sets, we want to choose exactly k sets...    14   \n",
       "1  Distributed denial of service (DDoS) is an att...     7   \n",
       "2  A Boolean function f : {0, 1} n → {0, 1} is ca...     3   \n",
       "3   We study the prediction with expert advice pr...     1   \n",
       "4  This work investigates the efforts of composit...     0   \n",
       "5  Multi-output is essential in machine learning ...     0   \n",
       "6  Polynomial degree is an important measure for ...     0   \n",
       "7  Without STP and LLDP, we propose a new approac...     0   \n",
       "8  Let  be the set of Boolean functions depending...     0   \n",
       "9  Polynomial degree is an important measure for ...     0   \n",
       "\n",
       "                                                  會議  \\\n",
       "0                                                  x   \n",
       "1  2017 IEEE conference on dependable and secure ...   \n",
       "2  2015 IEEE International Symposium on Informati...   \n",
       "3  International Computing and Combinatorics Conf...   \n",
       "4  2018 IEEE International Conference on Big Data...   \n",
       "5                                                  x   \n",
       "6                                                  x   \n",
       "7  2017 19th Asia-Pacific Network Operations and ...   \n",
       "8                                                  x   \n",
       "9                                                  x   \n",
       "\n",
       "                                               期刊  \\\n",
       "0                  Information Processing Letters   \n",
       "1                                               x   \n",
       "2                                               x   \n",
       "3                                               x   \n",
       "4                                               x   \n",
       "5                 arXiv preprint arXiv:1808.06733   \n",
       "6  Journal of Information Science and Engineering   \n",
       "7                                               x   \n",
       "8                 arXiv preprint arXiv:1502.00357   \n",
       "9                              交通大學資訊科學與工程研究所學位論文   \n",
       "\n",
       "                                             pdf_url pdf_path  \n",
       "0  https://ir.nctu.edu.tw/bitstream/11536/16807/1...        x  \n",
       "1                                                  x        x  \n",
       "2                                                  x        x  \n",
       "3                                                  x        x  \n",
       "4                                                  x        x  \n",
       "5                   https://arxiv.org/pdf/1808.06733        x  \n",
       "6                                                  x        x  \n",
       "7                                                  x        x  \n",
       "8                   https://arxiv.org/pdf/1502.00357        x  \n",
       "9                                                  x        x  "
      ]
     },
     "execution_count": 22,
     "metadata": {},
     "output_type": "execute_result"
    }
   ],
   "source": [
    "result=pd.read_pickle(path)\n",
    "result['pdf_path']='x'\n",
    "result"
   ]
  },
  {
   "cell_type": "code",
   "execution_count": 23,
   "metadata": {},
   "outputs": [],
   "source": [
    "def download_i_paper(result,i):\n",
    "    row=result.loc[i,:]\n",
    "    pdf_url=row['pdf_url']\n",
    "        \n",
    "    paper_name=row['paper_name']\n",
    "    for c in [',',':']:\n",
    "        paper_name=paper_name.replace(c,'')\n",
    "    paper_name=paper_name.replace(' ','-')\n",
    "    pdf_path='./pdf/%s.pdf'%(paper_name)\n",
    "    \n",
    "    if os.path.isfile(pdf_path)!=True:\n",
    "        myfile = rq.get(pdf_url)\n",
    "        with open(pdf_path, 'wb') as f:\n",
    "            f.write(myfile.content)\n",
    "        \n",
    "    result.loc[i,'pdf_path']=pdf_path\n",
    "    return result\n"
   ]
  },
  {
   "cell_type": "code",
   "execution_count": 33,
   "metadata": {
    "scrolled": true
   },
   "outputs": [
    {
     "data": {
      "text/plain": [
       "3"
      ]
     },
     "execution_count": 33,
     "metadata": {},
     "output_type": "execute_result"
    }
   ],
   "source": [
    "i_list=result[result.pdf_url!='x'].index.tolist()\n",
    "len(i_list)"
   ]
  },
  {
   "cell_type": "code",
   "execution_count": 25,
   "metadata": {
    "scrolled": true
   },
   "outputs": [
    {
     "name": "stdout",
     "output_type": "stream",
     "text": [
      " --------------------- \n",
      "len(i_list) 3\n",
      "i 0\n",
      " --------------------- \n",
      "len(i_list) 2\n",
      "i 5\n",
      " --------------------- \n",
      "len(i_list) 1\n",
      "i 8\n",
      " --------------------- \n",
      "len(i_list) 0\n"
     ]
    }
   ],
   "source": [
    "while True:\n",
    "    print(' --------------------- ')\n",
    "    print('len(i_list)',len(i_list))\n",
    "    \n",
    "    if len(i_list)==0: break\n",
    "    i=i_list.pop(0)\n",
    "    print('i',i)\n",
    "    try:\n",
    "        result=download_i_paper(result,i)\n",
    "    except Exception as e:\n",
    "        print(e)\n",
    "        print('error',i)\n",
    "        i_list.append(i)\n",
    "\n",
    "\n",
    "\n",
    "\n"
   ]
  },
  {
   "cell_type": "code",
   "execution_count": 26,
   "metadata": {},
   "outputs": [],
   "source": [
    "result.to_pickle(path)"
   ]
  },
  {
   "cell_type": "code",
   "execution_count": null,
   "metadata": {},
   "outputs": [],
   "source": []
  },
  {
   "cell_type": "code",
   "execution_count": null,
   "metadata": {},
   "outputs": [],
   "source": []
  },
  {
   "cell_type": "markdown",
   "metadata": {},
   "source": [
    "# check keywords\n"
   ]
  },
  {
   "cell_type": "code",
   "execution_count": 27,
   "metadata": {
    "scrolled": true
   },
   "outputs": [
    {
     "data": {
      "text/html": [
       "<div>\n",
       "<style scoped>\n",
       "    .dataframe tbody tr th:only-of-type {\n",
       "        vertical-align: middle;\n",
       "    }\n",
       "\n",
       "    .dataframe tbody tr th {\n",
       "        vertical-align: top;\n",
       "    }\n",
       "\n",
       "    .dataframe thead th {\n",
       "        text-align: right;\n",
       "    }\n",
       "</style>\n",
       "<table border=\"1\" class=\"dataframe\">\n",
       "  <thead>\n",
       "    <tr style=\"text-align: right;\">\n",
       "      <th></th>\n",
       "      <th>paper_name</th>\n",
       "      <th>paper_url</th>\n",
       "      <th>作者</th>\n",
       "      <th>發布日期</th>\n",
       "      <th>描述</th>\n",
       "      <th>引文總數</th>\n",
       "      <th>會議</th>\n",
       "      <th>期刊</th>\n",
       "      <th>pdf_url</th>\n",
       "      <th>pdf_path</th>\n",
       "      <th>keywords</th>\n",
       "    </tr>\n",
       "  </thead>\n",
       "  <tbody>\n",
       "    <tr>\n",
       "      <th>0</th>\n",
       "      <td>On the inapproximability of maximum intersecti...</td>\n",
       "      <td>https://www.sciencedirect.com/science/article/...</td>\n",
       "      <td>Min-Zheng Shieh, Shi-Chun Tsai, Ming-Chuan Yang</td>\n",
       "      <td>2012/10/15</td>\n",
       "      <td>Given u sets, we want to choose exactly k sets...</td>\n",
       "      <td>14</td>\n",
       "      <td>x</td>\n",
       "      <td>Information Processing Letters</td>\n",
       "      <td>https://ir.nctu.edu.tw/bitstream/11536/16807/1...</td>\n",
       "      <td>./pdf/On-the-inapproximability-of-maximum-inte...</td>\n",
       "      <td>x</td>\n",
       "    </tr>\n",
       "    <tr>\n",
       "      <th>1</th>\n",
       "      <td>Detecting amplification attacks with software ...</td>\n",
       "      <td>https://ieeexplore.ieee.org/abstract/document/...</td>\n",
       "      <td>Chih-Chieh Chen, Yi-Ren Chen, Wei-Chih Lu, Shi...</td>\n",
       "      <td>2017/8/7</td>\n",
       "      <td>Distributed denial of service (DDoS) is an att...</td>\n",
       "      <td>7</td>\n",
       "      <td>2017 IEEE conference on dependable and secure ...</td>\n",
       "      <td>x</td>\n",
       "      <td>x</td>\n",
       "      <td>x</td>\n",
       "      <td>x</td>\n",
       "    </tr>\n",
       "    <tr>\n",
       "      <th>2</th>\n",
       "      <td>Restrictions of nondegenerate Boolean function...</td>\n",
       "      <td>https://ieeexplore.ieee.org/abstract/document/...</td>\n",
       "      <td>Chia-Jung Lee, Satyanarayana V Lokam, Shi-Chun...</td>\n",
       "      <td>2015/6/14</td>\n",
       "      <td>A Boolean function f : {0, 1} n → {0, 1} is ca...</td>\n",
       "      <td>3</td>\n",
       "      <td>2015 IEEE International Symposium on Informati...</td>\n",
       "      <td>x</td>\n",
       "      <td>x</td>\n",
       "      <td>x</td>\n",
       "      <td>x</td>\n",
       "    </tr>\n",
       "    <tr>\n",
       "      <th>3</th>\n",
       "      <td>Online prediction problems with variation</td>\n",
       "      <td>https://link.springer.com/chapter/10.1007/978-...</td>\n",
       "      <td>Chia-Jung Lee, Shi-Chun Tsai, Ming-Chuan Yang</td>\n",
       "      <td>2014/8/4</td>\n",
       "      <td>We study the prediction with expert advice pr...</td>\n",
       "      <td>1</td>\n",
       "      <td>International Computing and Combinatorics Conf...</td>\n",
       "      <td>x</td>\n",
       "      <td>x</td>\n",
       "      <td>x</td>\n",
       "      <td>x</td>\n",
       "    </tr>\n",
       "    <tr>\n",
       "      <th>4</th>\n",
       "      <td>PM2. 5 Forecasting Using Pre-trained Components</td>\n",
       "      <td>https://ieeexplore.ieee.org/abstract/document/...</td>\n",
       "      <td>Ming-Chuan Yang, Meng Chang Chen</td>\n",
       "      <td>2018/12/10</td>\n",
       "      <td>This work investigates the efforts of composit...</td>\n",
       "      <td>0</td>\n",
       "      <td>2018 IEEE International Conference on Big Data...</td>\n",
       "      <td>x</td>\n",
       "      <td>x</td>\n",
       "      <td>x</td>\n",
       "      <td>x</td>\n",
       "    </tr>\n",
       "    <tr>\n",
       "      <th>5</th>\n",
       "      <td>Wrapped Loss Function for Regularizing Nonconf...</td>\n",
       "      <td>https://arxiv.org/abs/1808.06733</td>\n",
       "      <td>Chun Ting Liu, Ming Chuan Yang, Meng Chang Chen</td>\n",
       "      <td>2018/8/21</td>\n",
       "      <td>Multi-output is essential in machine learning ...</td>\n",
       "      <td>0</td>\n",
       "      <td>x</td>\n",
       "      <td>arXiv preprint arXiv:1808.06733</td>\n",
       "      <td>https://arxiv.org/pdf/1808.06733</td>\n",
       "      <td>./pdf/Wrapped-Loss-Function-for-Regularizing-N...</td>\n",
       "      <td>x</td>\n",
       "    </tr>\n",
       "    <tr>\n",
       "      <th>6</th>\n",
       "      <td>Representing Symmetric Boolean Functions with ...</td>\n",
       "      <td>http://search.ebscohost.com/login.aspx?direct=...</td>\n",
       "      <td>Shi-Chun Tsai, Ming-Chuan Yang</td>\n",
       "      <td>2018/1</td>\n",
       "      <td>Polynomial degree is an important measure for ...</td>\n",
       "      <td>0</td>\n",
       "      <td>x</td>\n",
       "      <td>Journal of Information Science and Engineering</td>\n",
       "      <td>x</td>\n",
       "      <td>x</td>\n",
       "      <td>x</td>\n",
       "    </tr>\n",
       "    <tr>\n",
       "      <th>7</th>\n",
       "      <td>Forwarding path discovery with software define...</td>\n",
       "      <td>https://ieeexplore.ieee.org/abstract/document/...</td>\n",
       "      <td>Chih-Chieh Chen, Yi-Ren Chen, Shi-Chun Tsai, M...</td>\n",
       "      <td>2017/9/27</td>\n",
       "      <td>Without STP and LLDP, we propose a new approac...</td>\n",
       "      <td>0</td>\n",
       "      <td>2017 19th Asia-Pacific Network Operations and ...</td>\n",
       "      <td>x</td>\n",
       "      <td>x</td>\n",
       "      <td>x</td>\n",
       "      <td>x</td>\n",
       "    </tr>\n",
       "    <tr>\n",
       "      <th>8</th>\n",
       "      <td>On Restricting No-Junta Boolean Function and D...</td>\n",
       "      <td>https://arxiv.org/abs/1502.00357</td>\n",
       "      <td>Chia-Jung Lee, Satya V Lokam, Shi-Chun Tsai, M...</td>\n",
       "      <td>2015/2/2</td>\n",
       "      <td>Let  be the set of Boolean functions depending...</td>\n",
       "      <td>0</td>\n",
       "      <td>x</td>\n",
       "      <td>arXiv preprint arXiv:1502.00357</td>\n",
       "      <td>https://arxiv.org/pdf/1502.00357</td>\n",
       "      <td>./pdf/On-Restricting-No-Junta-Boolean-Function...</td>\n",
       "      <td>x</td>\n",
       "    </tr>\n",
       "    <tr>\n",
       "      <th>9</th>\n",
       "      <td>布林函數多項式表示法之次方下界</td>\n",
       "      <td>http://www.airitilibrary.com/Publication/alDet...</td>\n",
       "      <td>Ming-Chuan Yang</td>\n",
       "      <td>2015/1/1</td>\n",
       "      <td>Polynomial degree is an important measure for ...</td>\n",
       "      <td>0</td>\n",
       "      <td>x</td>\n",
       "      <td>交通大學資訊科學與工程研究所學位論文</td>\n",
       "      <td>x</td>\n",
       "      <td>x</td>\n",
       "      <td>x</td>\n",
       "    </tr>\n",
       "  </tbody>\n",
       "</table>\n",
       "</div>"
      ],
      "text/plain": [
       "                                          paper_name  \\\n",
       "0  On the inapproximability of maximum intersecti...   \n",
       "1  Detecting amplification attacks with software ...   \n",
       "2  Restrictions of nondegenerate Boolean function...   \n",
       "3          Online prediction problems with variation   \n",
       "4    PM2. 5 Forecasting Using Pre-trained Components   \n",
       "5  Wrapped Loss Function for Regularizing Nonconf...   \n",
       "6  Representing Symmetric Boolean Functions with ...   \n",
       "7  Forwarding path discovery with software define...   \n",
       "8  On Restricting No-Junta Boolean Function and D...   \n",
       "9                                    布林函數多項式表示法之次方下界   \n",
       "\n",
       "                                           paper_url  \\\n",
       "0  https://www.sciencedirect.com/science/article/...   \n",
       "1  https://ieeexplore.ieee.org/abstract/document/...   \n",
       "2  https://ieeexplore.ieee.org/abstract/document/...   \n",
       "3  https://link.springer.com/chapter/10.1007/978-...   \n",
       "4  https://ieeexplore.ieee.org/abstract/document/...   \n",
       "5                   https://arxiv.org/abs/1808.06733   \n",
       "6  http://search.ebscohost.com/login.aspx?direct=...   \n",
       "7  https://ieeexplore.ieee.org/abstract/document/...   \n",
       "8                   https://arxiv.org/abs/1502.00357   \n",
       "9  http://www.airitilibrary.com/Publication/alDet...   \n",
       "\n",
       "                                                  作者        發布日期  \\\n",
       "0    Min-Zheng Shieh, Shi-Chun Tsai, Ming-Chuan Yang  2012/10/15   \n",
       "1  Chih-Chieh Chen, Yi-Ren Chen, Wei-Chih Lu, Shi...    2017/8/7   \n",
       "2  Chia-Jung Lee, Satyanarayana V Lokam, Shi-Chun...   2015/6/14   \n",
       "3      Chia-Jung Lee, Shi-Chun Tsai, Ming-Chuan Yang    2014/8/4   \n",
       "4                   Ming-Chuan Yang, Meng Chang Chen  2018/12/10   \n",
       "5    Chun Ting Liu, Ming Chuan Yang, Meng Chang Chen   2018/8/21   \n",
       "6                     Shi-Chun Tsai, Ming-Chuan Yang      2018/1   \n",
       "7  Chih-Chieh Chen, Yi-Ren Chen, Shi-Chun Tsai, M...   2017/9/27   \n",
       "8  Chia-Jung Lee, Satya V Lokam, Shi-Chun Tsai, M...    2015/2/2   \n",
       "9                                    Ming-Chuan Yang    2015/1/1   \n",
       "\n",
       "                                                  描述  引文總數  \\\n",
       "0  Given u sets, we want to choose exactly k sets...    14   \n",
       "1  Distributed denial of service (DDoS) is an att...     7   \n",
       "2  A Boolean function f : {0, 1} n → {0, 1} is ca...     3   \n",
       "3   We study the prediction with expert advice pr...     1   \n",
       "4  This work investigates the efforts of composit...     0   \n",
       "5  Multi-output is essential in machine learning ...     0   \n",
       "6  Polynomial degree is an important measure for ...     0   \n",
       "7  Without STP and LLDP, we propose a new approac...     0   \n",
       "8  Let  be the set of Boolean functions depending...     0   \n",
       "9  Polynomial degree is an important measure for ...     0   \n",
       "\n",
       "                                                  會議  \\\n",
       "0                                                  x   \n",
       "1  2017 IEEE conference on dependable and secure ...   \n",
       "2  2015 IEEE International Symposium on Informati...   \n",
       "3  International Computing and Combinatorics Conf...   \n",
       "4  2018 IEEE International Conference on Big Data...   \n",
       "5                                                  x   \n",
       "6                                                  x   \n",
       "7  2017 19th Asia-Pacific Network Operations and ...   \n",
       "8                                                  x   \n",
       "9                                                  x   \n",
       "\n",
       "                                               期刊  \\\n",
       "0                  Information Processing Letters   \n",
       "1                                               x   \n",
       "2                                               x   \n",
       "3                                               x   \n",
       "4                                               x   \n",
       "5                 arXiv preprint arXiv:1808.06733   \n",
       "6  Journal of Information Science and Engineering   \n",
       "7                                               x   \n",
       "8                 arXiv preprint arXiv:1502.00357   \n",
       "9                              交通大學資訊科學與工程研究所學位論文   \n",
       "\n",
       "                                             pdf_url  \\\n",
       "0  https://ir.nctu.edu.tw/bitstream/11536/16807/1...   \n",
       "1                                                  x   \n",
       "2                                                  x   \n",
       "3                                                  x   \n",
       "4                                                  x   \n",
       "5                   https://arxiv.org/pdf/1808.06733   \n",
       "6                                                  x   \n",
       "7                                                  x   \n",
       "8                   https://arxiv.org/pdf/1502.00357   \n",
       "9                                                  x   \n",
       "\n",
       "                                            pdf_path keywords  \n",
       "0  ./pdf/On-the-inapproximability-of-maximum-inte...        x  \n",
       "1                                                  x        x  \n",
       "2                                                  x        x  \n",
       "3                                                  x        x  \n",
       "4                                                  x        x  \n",
       "5  ./pdf/Wrapped-Loss-Function-for-Regularizing-N...        x  \n",
       "6                                                  x        x  \n",
       "7                                                  x        x  \n",
       "8  ./pdf/On-Restricting-No-Junta-Boolean-Function...        x  \n",
       "9                                                  x        x  "
      ]
     },
     "execution_count": 27,
     "metadata": {},
     "output_type": "execute_result"
    }
   ],
   "source": [
    "result=pd.read_pickle(path)\n",
    "result['keywords']='x'\n",
    "result"
   ]
  },
  {
   "cell_type": "code",
   "execution_count": 28,
   "metadata": {
    "scrolled": true
   },
   "outputs": [
    {
     "data": {
      "text/plain": [
       "3"
      ]
     },
     "execution_count": 28,
     "metadata": {},
     "output_type": "execute_result"
    }
   ],
   "source": [
    "i_list=result[result.pdf_path!='x'].index.tolist()\n",
    "len(i_list)"
   ]
  },
  {
   "cell_type": "code",
   "execution_count": 36,
   "metadata": {},
   "outputs": [],
   "source": [
    "def check_i_paper(result,i):\n",
    "    keywords=['knn','kriging','interpolation','transfer']\n",
    "    ks=[]\n",
    "    row=result.loc[i,:]\n",
    "    pdf_path=row['pdf_path']\n",
    "    paper_text=extract_text_from_pdf(pdf_path)\n",
    "    paper_text=paper_text.lower()\n",
    "    for keyword in keywords:\n",
    "        if keyword in paper_text: \n",
    "            ks.append(keyword)\n",
    "    \n",
    "    ks=','.join(ks) if len(ks)>=1 else 'no'\n",
    "    result.loc[i,'keywords']=ks\n",
    "    return result            "
   ]
  },
  {
   "cell_type": "code",
   "execution_count": 30,
   "metadata": {
    "scrolled": false
   },
   "outputs": [
    {
     "name": "stdout",
     "output_type": "stream",
     "text": [
      " --------------------- \n",
      "len(i_list) 3\n",
      "i 0\n",
      " --------------------- \n",
      "len(i_list) 2\n",
      "i 5\n",
      " --------------------- \n",
      "len(i_list) 1\n",
      "i 8\n",
      " --------------------- \n",
      "len(i_list) 0\n"
     ]
    }
   ],
   "source": [
    "while True:\n",
    "    print(' --------------------- ')\n",
    "    print('len(i_list)',len(i_list))\n",
    "    \n",
    "    if len(i_list)==0: break\n",
    "    i=i_list.pop(0)\n",
    "    print('i',i)\n",
    "    try:\n",
    "        result=check_i_paper(result,i)\n",
    "    except Exception as e:\n",
    "        print(e)\n",
    "        print('error',i)\n",
    "        i_list.append(i)\n"
   ]
  },
  {
   "cell_type": "code",
   "execution_count": 31,
   "metadata": {
    "scrolled": true
   },
   "outputs": [],
   "source": [
    "result=result.sort_values(by='引文總數',ascending=False).reset_index(drop=True)"
   ]
  },
  {
   "cell_type": "code",
   "execution_count": 32,
   "metadata": {},
   "outputs": [],
   "source": [
    "result.to_pickle(path)"
   ]
  },
  {
   "cell_type": "code",
   "execution_count": null,
   "metadata": {},
   "outputs": [],
   "source": []
  },
  {
   "cell_type": "code",
   "execution_count": null,
   "metadata": {},
   "outputs": [],
   "source": []
  }
 ],
 "metadata": {
  "kernelspec": {
   "display_name": "Python 3",
   "language": "python",
   "name": "python3"
  },
  "language_info": {
   "codemirror_mode": {
    "name": "ipython",
    "version": 3
   },
   "file_extension": ".py",
   "mimetype": "text/x-python",
   "name": "python",
   "nbconvert_exporter": "python",
   "pygments_lexer": "ipython3",
   "version": "3.7.2"
  }
 },
 "nbformat": 4,
 "nbformat_minor": 2
}
